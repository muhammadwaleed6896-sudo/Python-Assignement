{
 "cells": [
  {
   "cell_type": "code",
   "execution_count": 1,
   "id": "1c356f60-c255-4662-a7f8-c4287db5dd5e",
   "metadata": {},
   "outputs": [
    {
     "name": "stdout",
     "output_type": "stream",
     "text": [
      "Hello world\n"
     ]
    }
   ],
   "source": [
    "text=\"hello world\"\n",
    "text=text.capitalize()\n",
    "print(text)"
   ]
  },
  {
   "cell_type": "code",
   "execution_count": 2,
   "id": "41417d35-3f04-442a-8d84-09bc86f023ff",
   "metadata": {},
   "outputs": [
    {
     "name": "stdout",
     "output_type": "stream",
     "text": [
      "hello world\n",
      "hello world\n"
     ]
    }
   ],
   "source": [
    "text = \"HELLO WORLD\"\n",
    "print(text.lower())\n",
    "print(text.casefold())"
   ]
  },
  {
   "cell_type": "code",
   "execution_count": 3,
   "id": "52c1e264-5a52-40b5-93c7-60a39e61d72d",
   "metadata": {},
   "outputs": [
    {
     "name": "stdout",
     "output_type": "stream",
     "text": [
      "   hello   \n",
      "***hello***\n"
     ]
    }
   ],
   "source": [
    "text=\"hello\"\n",
    "print(text.center(11))\n",
    "print(text.center(11,\"*\"))"
   ]
  },
  {
   "cell_type": "code",
   "execution_count": 4,
   "id": "c42cc44b-2604-4dc6-b1d6-5d8cf9b1d51a",
   "metadata": {},
   "outputs": [
    {
     "name": "stdout",
     "output_type": "stream",
     "text": [
      "2\n"
     ]
    }
   ],
   "source": [
    "text=\"I love python because python is powerful\"\n",
    "print(text.count(\"python\"))"
   ]
  },
  {
   "cell_type": "code",
   "execution_count": 5,
   "id": "281b788e-3e9c-4335-9f60-39236c776137",
   "metadata": {},
   "outputs": [
    {
     "name": "stdout",
     "output_type": "stream",
     "text": [
      "b'python'\n"
     ]
    }
   ],
   "source": [
    "text=\"python\"\n",
    "text=text.encode()\n",
    "print(text)"
   ]
  },
  {
   "cell_type": "code",
   "execution_count": 1,
   "id": "2c65b729-3d61-4c8f-8eae-801c8941a9c1",
   "metadata": {},
   "outputs": [
    {
     "name": "stdout",
     "output_type": "stream",
     "text": [
      "True\n"
     ]
    }
   ],
   "source": [
    "text= \"world\"\n",
    "print(text.endswith(\"world\"))\n"
   ]
  },
  {
   "cell_type": "code",
   "execution_count": 2,
   "id": "e0a880c9-061d-4081-bdfb-f15186c06e0c",
   "metadata": {},
   "outputs": [
    {
     "name": "stdout",
     "output_type": "stream",
     "text": [
      "Hello   world\n"
     ]
    }
   ],
   "source": [
    "text=\"Hello\\tworld\"\n",
    "print(text.expandtabs())"
   ]
  },
  {
   "cell_type": "code",
   "execution_count": 6,
   "id": "25f5914d-1cff-48d3-82d8-38406d051873",
   "metadata": {},
   "outputs": [
    {
     "name": "stdout",
     "output_type": "stream",
     "text": [
      "-1\n",
      "6\n"
     ]
    }
   ],
   "source": [
    "text=\"Hello world\"\n",
    "print(text.find(\"worls\"))\n",
    "print(text.find(\"world\"))\n"
   ]
  },
  {
   "cell_type": "code",
   "execution_count": 7,
   "id": "ffc217ba-79ef-4075-9b73-b2d17ad4b8ff",
   "metadata": {},
   "outputs": [
    {
     "name": "stdout",
     "output_type": "stream",
     "text": [
      "I likeapplesand bananas\n"
     ]
    }
   ],
   "source": [
    "text=\"I like{0}and {1}\"\n",
    "result=text.format(\"apples\",\"bananas\")\n",
    "print(result)"
   ]
  },
  {
   "cell_type": "code",
   "execution_count": 9,
   "id": "1ecf4a4b-8e51-49aa-9e91-8081f0fe8677",
   "metadata": {},
   "outputs": [
    {
     "name": "stdout",
     "output_type": "stream",
     "text": [
      "my name is hasnainand i am 20 years old.\n"
     ]
    }
   ],
   "source": [
    "data={\"name\":\"hasnain\",\"age\":20}\n",
    "text=\"my name is {name}and i am {age} years old.\"\n",
    "result=text.format_map(data)\n",
    "print(result)"
   ]
  },
  {
   "cell_type": "code",
   "execution_count": 10,
   "id": "de55e70a-a995-42ae-b9da-b413531b05c7",
   "metadata": {},
   "outputs": [
    {
     "name": "stdout",
     "output_type": "stream",
     "text": [
      "6\n"
     ]
    }
   ],
   "source": [
    "text=\"Hello world\"\n",
    "pos=text.index(\"world\")\n",
    "print(pos)"
   ]
  },
  {
   "cell_type": "code",
   "execution_count": 11,
   "id": "f4a9813d-656f-4783-b206-f5eedeaadca0",
   "metadata": {},
   "outputs": [
    {
     "name": "stdout",
     "output_type": "stream",
     "text": [
      "False\n"
     ]
    }
   ],
   "source": [
    "text=\"Hello!\"\n",
    "print(text.isalnum())"
   ]
  },
  {
   "cell_type": "code",
   "execution_count": 13,
   "id": "ee510adf-ae4f-4c12-9f57-cd7f0b43ee68",
   "metadata": {},
   "outputs": [
    {
     "name": "stdout",
     "output_type": "stream",
     "text": [
      "True\n"
     ]
    }
   ],
   "source": [
    "text=\"python\"\n",
    "print(text.isalpha())"
   ]
  },
  {
   "cell_type": "code",
   "execution_count": 14,
   "id": "09d3240b-948e-4ee4-9f78-26ae66a64670",
   "metadata": {},
   "outputs": [
    {
     "name": "stdout",
     "output_type": "stream",
     "text": [
      "True\n"
     ]
    }
   ],
   "source": [
    "text=\"Hello123!\"\n",
    "print(text.isascii())"
   ]
  },
  {
   "cell_type": "code",
   "execution_count": 15,
   "id": "7e336aaa-9544-4332-8d9f-03c826684396",
   "metadata": {},
   "outputs": [
    {
     "name": "stdout",
     "output_type": "stream",
     "text": [
      "True\n"
     ]
    }
   ],
   "source": [
    "text=\"12345\"\n",
    "print(text.isdecimal())"
   ]
  },
  {
   "cell_type": "code",
   "execution_count": 16,
   "id": "a6673290-d590-4438-8aa0-2e67ed60cccc",
   "metadata": {},
   "outputs": [
    {
     "name": "stdout",
     "output_type": "stream",
     "text": [
      "True\n"
     ]
    }
   ],
   "source": [
    "text=\"12345\"\n",
    "print(text.isdigit())"
   ]
  },
  {
   "cell_type": "code",
   "execution_count": 20,
   "id": "57d572c8-0b0d-43b4-9ac2-132226e55ead",
   "metadata": {},
   "outputs": [
    {
     "name": "stdout",
     "output_type": "stream",
     "text": [
      "False\n"
     ]
    }
   ],
   "source": [
    "text = \"12345\"\n",
    "print(text.isidentifier())"
   ]
  },
  {
   "cell_type": "code",
   "execution_count": 21,
   "id": "1e907fec-dcec-4415-9cd1-207f5d9a3928",
   "metadata": {},
   "outputs": [
    {
     "name": "stdout",
     "output_type": "stream",
     "text": [
      "False\n"
     ]
    }
   ],
   "source": [
    "tex=\"python\"\n",
    "print(text.islower())"
   ]
  },
  {
   "cell_type": "code",
   "execution_count": 22,
   "id": "4bbcb45c-b3ad-44a9-bf55-22a1b72d8761",
   "metadata": {},
   "outputs": [
    {
     "name": "stdout",
     "output_type": "stream",
     "text": [
      "True\n"
     ]
    }
   ],
   "source": [
    "text=\"12345\"\n",
    "print(text.isnumeric())"
   ]
  },
  {
   "cell_type": "code",
   "execution_count": 24,
   "id": "06343299-68a3-48de-a86d-ffe471bf4555",
   "metadata": {},
   "outputs": [
    {
     "name": "stdout",
     "output_type": "stream",
     "text": [
      "True\n"
     ]
    }
   ],
   "source": [
    "text=\"Hello world\"\n",
    "print(text.isprintable())"
   ]
  },
  {
   "cell_type": "code",
   "execution_count": 25,
   "id": "6c1762ee-e29c-4381-a9a8-3c10b26ec7a2",
   "metadata": {},
   "outputs": [
    {
     "name": "stdout",
     "output_type": "stream",
     "text": [
      "True\n"
     ]
    }
   ],
   "source": [
    "text=\" \"\n",
    "print(text.isspace())"
   ]
  },
  {
   "cell_type": "code",
   "execution_count": 27,
   "id": "466d8fdd-45cf-4693-a5a7-f845decf790c",
   "metadata": {},
   "outputs": [
    {
     "name": "stdout",
     "output_type": "stream",
     "text": [
      "False\n"
     ]
    }
   ],
   "source": [
    "text=\"Hello world\"\n",
    "print(text.istitle())"
   ]
  },
  {
   "cell_type": "code",
   "execution_count": 28,
   "id": "4eb777f7-51be-45b5-9ef6-169cc1b71e1d",
   "metadata": {},
   "outputs": [
    {
     "name": "stdout",
     "output_type": "stream",
     "text": [
      "False\n"
     ]
    }
   ],
   "source": [
    "text=\"Hello world\"\n",
    "print(text.isupper())"
   ]
  },
  {
   "cell_type": "code",
   "execution_count": 29,
   "id": "ce9addf2-80b6-42e6-b3ee-7a2845112e38",
   "metadata": {},
   "outputs": [
    {
     "name": "stdout",
     "output_type": "stream",
     "text": [
      "Hello world\n"
     ]
    }
   ],
   "source": [
    "words=[\"Hello\",\"world\"]\n",
    "result=\" \".join(words)\n",
    "print(result)"
   ]
  },
  {
   "cell_type": "code",
   "execution_count": 32,
   "id": "d3e34c3d-c8d3-4dc1-9b79-6a778f22c2f3",
   "metadata": {},
   "outputs": [
    {
     "name": "stdout",
     "output_type": "stream",
     "text": [
      "****python\n"
     ]
    }
   ],
   "source": [
    "text=\"python\"\n",
    "print(text.rjust(10,\"*\"))"
   ]
  },
  {
   "cell_type": "code",
   "execution_count": 33,
   "id": "2513575f-895a-4496-868a-9f453446e0a0",
   "metadata": {},
   "outputs": [
    {
     "name": "stdout",
     "output_type": "stream",
     "text": [
      "hello world\n"
     ]
    }
   ],
   "source": [
    "text=\"Hello world\"\n",
    "print(text.lower())"
   ]
  },
  {
   "cell_type": "code",
   "execution_count": 34,
   "id": "e23cf2dd-dcd6-4782-874e-f050d56d45a1",
   "metadata": {},
   "outputs": [
    {
     "name": "stdout",
     "output_type": "stream",
     "text": [
      "Hello world\n"
     ]
    }
   ],
   "source": [
    "text=\"  Hello world   \"\n",
    "print(text.strip())"
   ]
  },
  {
   "cell_type": "code",
   "execution_count": null,
   "id": "2d4fbf37-3078-4dea-9954-bf2dd8a0e156",
   "metadata": {},
   "outputs": [],
   "source": []
  },
  {
   "cell_type": "code",
   "execution_count": 37,
   "id": "b598d5b5-4a2f-4c7b-801c-0996ed906ab8",
   "metadata": {},
   "outputs": [
    {
     "name": "stdout",
     "output_type": "stream",
     "text": [
      "Hello World\n"
     ]
    }
   ],
   "source": [
    "text=\"hello world\"\n",
    "table=str.maketrans({\"h\":\"H\",\"w\":\"W\",\"o\":\"o\"})\n",
    "print(text.translate(table))"
   ]
  },
  {
   "cell_type": "code",
   "execution_count": 38,
   "id": "823a0914-52fb-4a00-8089-806e8ab8d773",
   "metadata": {},
   "outputs": [
    {
     "name": "stdout",
     "output_type": "stream",
     "text": [
      "('Helloworld', '', '')\n"
     ]
    }
   ],
   "source": [
    "text=\"Helloworld\"\n",
    "result=text.partition(\" \")\n",
    "print(result)"
   ]
  },
  {
   "cell_type": "code",
   "execution_count": 41,
   "id": "6147304e-9fd7-4634-8f49-d05f4c59c388",
   "metadata": {},
   "outputs": [
    {
     "name": "stdout",
     "output_type": "stream",
     "text": [
      "two one one\n"
     ]
    }
   ],
   "source": [
    "text=\"one one one\"\n",
    "result=text.replace(\"one\",\"two\",1)\n",
    "print(result)"
   ]
  },
  {
   "cell_type": "code",
   "execution_count": 42,
   "id": "e7cbd778-4536-4571-9110-f14ceb769dc4",
   "metadata": {},
   "outputs": [
    {
     "name": "stdout",
     "output_type": "stream",
     "text": [
      "12\n"
     ]
    }
   ],
   "source": [
    "text=\"Hello world,Hello python\"\n",
    "pos=text.rfind(\"Hello\")\n",
    "print(pos)\n"
   ]
  },
  {
   "cell_type": "code",
   "execution_count": 43,
   "id": "0b65906b-cf88-4bc2-9533-08bcfec6f7a8",
   "metadata": {},
   "outputs": [
    {
     "name": "stdout",
     "output_type": "stream",
     "text": [
      "13\n"
     ]
    }
   ],
   "source": [
    "text=\"Hello world, Hello python\"\n",
    "pos=text.rindex(\"Hello\")\n",
    "print(pos)"
   ]
  },
  {
   "cell_type": "code",
   "execution_count": 44,
   "id": "4f861c58-6242-491b-93eb-8b093957219c",
   "metadata": {},
   "outputs": [
    {
     "name": "stdout",
     "output_type": "stream",
     "text": [
      "    Python\n"
     ]
    }
   ],
   "source": [
    "text=\"Python\"\n",
    "print(text.rjust(10))"
   ]
  },
  {
   "cell_type": "code",
   "execution_count": 45,
   "id": "521eb2fc-7639-4c7d-9042-7c78d8f76b92",
   "metadata": {},
   "outputs": [
    {
     "name": "stdout",
     "output_type": "stream",
     "text": [
      "('one-two', '-', 'three')\n"
     ]
    }
   ],
   "source": [
    "text=\"one-two-three\"\n",
    "result=text.rpartition(\"-\")\n",
    "print(result)"
   ]
  },
  {
   "cell_type": "code",
   "execution_count": 47,
   "id": "89b6a182-8152-4af9-aa19-1ba87d3f58e5",
   "metadata": {},
   "outputs": [
    {
     "name": "stdout",
     "output_type": "stream",
     "text": [
      "['Python', 'is', 'fun', 'to', 'learn']\n"
     ]
    }
   ],
   "source": [
    "text=\"Python is fun to learn\"\n",
    "result=text.rsplit()\n",
    "print(result)"
   ]
  },
  {
   "cell_type": "code",
   "execution_count": 49,
   "id": "0cfa6a8e-51d2-47f6-aec9-98669ad41806",
   "metadata": {},
   "outputs": [
    {
     "name": "stdout",
     "output_type": "stream",
     "text": [
      "'Hello world'\n"
     ]
    }
   ],
   "source": [
    "text=\"Hello world     \"\n",
    "result=text.rstrip()\n",
    "print(repr(result))"
   ]
  },
  {
   "cell_type": "code",
   "execution_count": 50,
   "id": "076e9013-ecc6-497e-840b-c66a14894146",
   "metadata": {},
   "outputs": [
    {
     "name": "stdout",
     "output_type": "stream",
     "text": [
      "['python', 'is', 'fun']\n"
     ]
    }
   ],
   "source": [
    "text=\"python is fun\"\n",
    "result=text.split()\n",
    "print(result)"
   ]
  },
  {
   "cell_type": "code",
   "execution_count": 51,
   "id": "88e68d7b-1a05-41fd-8447-fef1b10fb613",
   "metadata": {},
   "outputs": [
    {
     "name": "stdout",
     "output_type": "stream",
     "text": [
      "['Hello', 'world', 'python']\n"
     ]
    }
   ],
   "source": [
    "text=\"Hello\\nworld\\npython\"\n",
    "result=text.splitlines()\n",
    "print(result)"
   ]
  },
  {
   "cell_type": "code",
   "execution_count": 53,
   "id": "4d1f8546-8b89-4e57-a248-d2b0a4d251fe",
   "metadata": {},
   "outputs": [
    {
     "name": "stdout",
     "output_type": "stream",
     "text": [
      "True\n"
     ]
    }
   ],
   "source": [
    "text=\"python is fun\"\n",
    "print(text.startswith(\"python\"))"
   ]
  },
  {
   "cell_type": "code",
   "execution_count": 54,
   "id": "954e7362-fa85-4c1b-93bb-e15b26edfdee",
   "metadata": {},
   "outputs": [
    {
     "name": "stdout",
     "output_type": "stream",
     "text": [
      "'python'\n"
     ]
    }
   ],
   "source": [
    "text= \"  python  \"\n",
    "result=text.strip()\n",
    "print(repr(result))"
   ]
  },
  {
   "cell_type": "code",
   "execution_count": 55,
   "id": "4fd5ca2e-9dc9-4450-b5d8-23a56ef75128",
   "metadata": {},
   "outputs": [
    {
     "name": "stdout",
     "output_type": "stream",
     "text": [
      "hELLO WORLD\n"
     ]
    }
   ],
   "source": [
    "text=\"Hello world\"\n",
    "result=text.swapcase()\n",
    "print(result)"
   ]
  },
  {
   "cell_type": "code",
   "execution_count": 56,
   "id": "513655ea-1025-46b2-b4d5-346597c02c60",
   "metadata": {},
   "outputs": [
    {
     "name": "stdout",
     "output_type": "stream",
     "text": [
      "Hello World\n"
     ]
    }
   ],
   "source": [
    "text=\"hello world\"\n",
    "print(text.title())\n"
   ]
  },
  {
   "cell_type": "code",
   "execution_count": 4,
   "id": "5dcabb72-0ee3-4926-b7c7-4155c0a13155",
   "metadata": {},
   "outputs": [
    {
     "name": "stdout",
     "output_type": "stream",
     "text": [
      "hll wrld\n"
     ]
    }
   ],
   "source": [
    "# Remove vowels\n",
    "table = str.maketrans('', '', 'aeiou')\n",
    "text = \"hello world\"\n",
    "print(text.translate(table))\n",
    "\n"
   ]
  },
  {
   "cell_type": "code",
   "execution_count": 5,
   "id": "d01b6505-062b-49d8-a080-81c2e4427704",
   "metadata": {},
   "outputs": [
    {
     "name": "stdout",
     "output_type": "stream",
     "text": [
      "HELLO WORLD\n"
     ]
    }
   ],
   "source": [
    "text = \"hello world\"\n",
    "upper_text = text.upper()\n",
    "print(upper_text)\n",
    "\n"
   ]
  },
  {
   "cell_type": "code",
   "execution_count": 6,
   "id": "8791c553-8389-45e0-8e2e-0cd13b45b7ad",
   "metadata": {},
   "outputs": [
    {
     "name": "stdout",
     "output_type": "stream",
     "text": [
      "00042\n"
     ]
    }
   ],
   "source": [
    "num = \"42\"\n",
    "print(num.zfill(5))\n"
   ]
  },
  {
   "cell_type": "code",
   "execution_count": null,
   "id": "1e9bc234-3dcd-4eeb-9527-e7a1fe1c0c5f",
   "metadata": {},
   "outputs": [],
   "source": []
  }
 ],
 "metadata": {
  "kernelspec": {
   "display_name": "Python 3 (ipykernel)",
   "language": "python",
   "name": "python3"
  },
  "language_info": {
   "codemirror_mode": {
    "name": "ipython",
    "version": 3
   },
   "file_extension": ".py",
   "mimetype": "text/x-python",
   "name": "python",
   "nbconvert_exporter": "python",
   "pygments_lexer": "ipython3",
   "version": "3.13.5"
  }
 },
 "nbformat": 4,
 "nbformat_minor": 5
}
